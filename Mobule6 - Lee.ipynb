{
 "cells": [
  {
   "cell_type": "markdown",
   "metadata": {},
   "source": [
    "1. Round 4.5667 to the nearest hundreth using a build-in function, round()."
   ]
  },
  {
   "cell_type": "code",
   "execution_count": 1,
   "metadata": {},
   "outputs": [
    {
     "data": {
      "text/plain": [
       "4.57"
      ]
     },
     "execution_count": 1,
     "metadata": {},
     "output_type": "execute_result"
    }
   ],
   "source": [
    "round(4.5667,2)"
   ]
  },
  {
   "cell_type": "markdown",
   "metadata": {},
   "source": [
    "2. Convert \"657\" to an integer data type"
   ]
  },
  {
   "cell_type": "code",
   "execution_count": 2,
   "metadata": {},
   "outputs": [
    {
     "data": {
      "text/plain": [
       "657"
      ]
     },
     "execution_count": 2,
     "metadata": {},
     "output_type": "execute_result"
    }
   ],
   "source": [
    "int(\"657\")"
   ]
  },
  {
   "cell_type": "markdown",
   "metadata": {},
   "source": [
    "3.\n",
    "Write a program to get two numbers from a user. Then, create a secret code where a code consists of 6 numbers and each number is randomly generated number between two numbers from a user. "
   ]
  },
  {
   "cell_type": "code",
   "execution_count": 1,
   "metadata": {},
   "outputs": [
    {
     "name": "stdout",
     "output_type": "stream",
     "text": [
      "Enter a single digit number 2\n",
      "Enter another single digit number 9\n",
      "824646\n"
     ]
    }
   ],
   "source": [
    "import random as rand\n",
    "inum1=input(\"Enter a single digit number \")\n",
    "inum2=input(\"Enter another single digit number \")\n",
    "if int(inum1) < int(inum2):\n",
    "    num1, num2 = int(inum1), int(inum2)\n",
    "else:\n",
    "    num1, num2 = int(inum2), int(inum1)\n",
    "sCode1=rand.randint(num1,num2)\n",
    "sCode2=rand.randint(num1,num2)\n",
    "sCode3=rand.randint(num1,num2)\n",
    "sCode4=rand.randint(num1,num2)\n",
    "sCode5=rand.randint(num1,num2)\n",
    "sCode6=rand.randint(num1,num2)\n",
    "print(str(sCode1)+str(sCode2)+str(sCode3)+str(sCode4)+str(sCode5)+str(sCode6))"
   ]
  },
  {
   "cell_type": "markdown",
   "metadata": {},
   "source": [
    "4.\n",
    "Write a program to center align below text where number of characters per line is 40:\n",
    "\n",
    "    Hickory, dickory, dock,\n",
    "    The mouse ran up the clock.\n",
    "    The clock struck one,\n",
    "    The mouse ran down,\n",
    "    Hickory, dickory, dock\n",
    "\n",
    "<b>Do not use string's center method! </b>"
   ]
  },
  {
   "cell_type": "code",
   "execution_count": 3,
   "metadata": {},
   "outputs": [
    {
     "name": "stdout",
     "output_type": "stream",
     "text": [
      "To center align below text \n",
      "'****************************************'\n",
      "'        Hickory, dickory, dock,         '\n",
      "'      The mouse ran up the clock.       '\n",
      "'         The clock struck one,          '\n",
      "'          The mouse ran down,           '\n",
      "'         Hickory, dickory, dock         '\n",
      "'****************************************'\n"
     ]
    }
   ],
   "source": [
    "# function to center a line\n",
    "def centerLine(line):\n",
    "    lineLength=len(line)\n",
    "    a=(40-lineLength)//2\n",
    "    b=40-lineLength-a\n",
    "    #checking print(quote+str.center(line,40)+quote)\n",
    "    print (quote+space*a+line+space*b+quote) \n",
    "    \n",
    "space = \" \"\n",
    "quote = \"\\'\"  \n",
    "line1 = \"Hickory, dickory, dock,\"\n",
    "line2 = \"The mouse ran up the clock.\"\n",
    "line3 = \"The clock struck one,\"\n",
    "line4 = \"The mouse ran down,\"\n",
    "line5 = \"Hickory, dickory, dock\"\n",
    "print(\"To center align below text \")\n",
    "print(quote+'*'*40+quote) # to show 40 *\n",
    "# Call function centerline \n",
    "centerLine(line1) \n",
    "centerLine(line2)\n",
    "centerLine(line3)\n",
    "centerLine(line4)\n",
    "centerLine(line5)\n",
    "\n",
    "print(quote+'*'*40+quote) # to show 40 * "
   ]
  },
  {
   "cell_type": "code",
   "execution_count": null,
   "metadata": {},
   "outputs": [],
   "source": [
    "5. Write a function to calculate the miles per gallon.\n",
    "Get a miles driven and gallons used from a user and call your function to calculate the miles per gallon. "
   ]
  },
  {
   "cell_type": "code",
   "execution_count": 4,
   "metadata": {},
   "outputs": [
    {
     "name": "stdout",
     "output_type": "stream",
     "text": [
      "Enter miles driven 456\n",
      "Enter gallons used 18.9\n",
      "The gas mileage is 24.13 miles per gallon\n"
     ]
    }
   ],
   "source": [
    "# function calcMPG to calcultate miles per gallon\n",
    "def calcMPG(miles,gallons):\n",
    "    mpg=miles/gallons\n",
    "    return mpg\n",
    "# user inout miles drive and gallons used    \n",
    "iMiles =input(\"Enter miles driven \")\n",
    "iGallons =input(\"Enter gallons used \")\n",
    "mpg=calcMPG(float(iMiles),float(iGallons)) # call function calcMPG\n",
    "print(\"The gas mileage is {:.2f} miles per gallon\".format(mpg))\n",
    "    "
   ]
  },
  {
   "cell_type": "code",
   "execution_count": null,
   "metadata": {},
   "outputs": [],
   "source": []
  },
  {
   "cell_type": "code",
   "execution_count": null,
   "metadata": {},
   "outputs": [],
   "source": []
  }
 ],
 "metadata": {
  "kernelspec": {
   "display_name": "Python 3 (ipykernel)",
   "language": "python",
   "name": "python3"
  },
  "language_info": {
   "codemirror_mode": {
    "name": "ipython",
    "version": 3
   },
   "file_extension": ".py",
   "mimetype": "text/x-python",
   "name": "python",
   "nbconvert_exporter": "python",
   "pygments_lexer": "ipython3",
   "version": "3.11.5"
  }
 },
 "nbformat": 4,
 "nbformat_minor": 4
}
